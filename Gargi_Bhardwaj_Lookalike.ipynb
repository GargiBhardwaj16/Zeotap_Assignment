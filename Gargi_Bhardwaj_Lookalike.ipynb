{
  "nbformat": 4,
  "nbformat_minor": 0,
  "metadata": {
    "colab": {
      "provenance": []
    },
    "kernelspec": {
      "name": "python3",
      "display_name": "Python 3"
    },
    "language_info": {
      "name": "python"
    }
  },
  "cells": [
    {
      "cell_type": "code",
      "execution_count": 1,
      "metadata": {
        "id": "IM5Uwtnes59C"
      },
      "outputs": [],
      "source": [
        "import pandas as pd\n",
        "import numpy as np\n",
        "import matplotlib.pyplot as plt\n",
        "import seaborn as sns\n",
        "from sklearn.metrics.pairwise import cosine_similarity\n",
        "from sklearn.preprocessing import StandardScaler, LabelEncoder\n",
        "from sklearn.cluster import KMeans\n",
        "from sklearn.metrics import davies_bouldin_score\n",
        "import json"
      ]
    },
    {
      "cell_type": "code",
      "source": [
        "customers = pd.read_csv(\"Customers.csv\")\n",
        "products = pd.read_csv(\"Products.csv\")\n",
        "transactions = pd.read_csv(\"/content/Transactions - Transactions.csv\")"
      ],
      "metadata": {
        "id": "ryNi2GGStCwF"
      },
      "execution_count": 2,
      "outputs": []
    },
    {
      "cell_type": "code",
      "source": [
        "# Task 2: Lookalike Model\n",
        "# Aggregate Customer Data\n",
        "customer_profile = transactions.groupby('CustomerID').agg({\n",
        "    'TotalValue': 'sum',\n",
        "    'Quantity': 'sum',\n",
        "    'Price': 'mean'\n",
        "}).reset_index()\n",
        "customer_profile = customer_profile.merge(customers, on='CustomerID')\n",
        "# Encode categorical data\n",
        "le = LabelEncoder()\n",
        "customer_profile['Region'] = le.fit_transform(customer_profile['Region'])\n",
        "# Normalize data\n",
        "scaler = StandardScaler()\n",
        "normalized_data = scaler.fit_transform(customer_profile[['TotalValue', 'Quantity', 'Price', 'Region']])\n",
        "# Compute Similarity\n",
        "similarity_matrix = cosine_similarity(normalized_data)\n",
        "# Generate Lookalike Recommendations\n",
        "lookalike_results = {}\n",
        "for i in range(20):  # First 20 customers (C0001 - C0020)\n",
        "    similar_indices = np.argsort(-similarity_matrix[i])[1:4]  # Top 3 excluding self\n",
        "    similar_customers = [(customer_profile.iloc[j]['CustomerID'], similarity_matrix[i][j]) for j in similar_indices]\n",
        "    lookalike_results[customer_profile.iloc[i]['CustomerID']] = similar_customers\n",
        "\n",
        "# Save Lookalike Results\n",
        "with open(\"Lookalike.csv\", \"w\") as f:\n",
        "    for cust_id, similars in lookalike_results.items():\n",
        "        f.write(f\"{cust_id}, {json.dumps(similars)}\\n\")"
      ],
      "metadata": {
        "id": "kLVW4Az-tuNc"
      },
      "execution_count": 6,
      "outputs": []
    }
  ]
}